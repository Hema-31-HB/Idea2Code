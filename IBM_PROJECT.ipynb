{
  "nbformat": 4,
  "nbformat_minor": 0,
  "metadata": {
    "colab": {
      "provenance": [],
      "authorship_tag": "ABX9TyPxK/fLCzXrrJU3zNorwZWj",
      "include_colab_link": true
    },
    "kernelspec": {
      "name": "python3",
      "display_name": "Python 3"
    },
    "language_info": {
      "name": "python"
    }
  },
  "cells": [
    {
      "cell_type": "markdown",
      "metadata": {
        "id": "view-in-github",
        "colab_type": "text"
      },
      "source": [
        "<a href=\"https://colab.research.google.com/github/Hema-31-HB/Idea2Code/blob/main/IBM_PROJECT.ipynb\" target=\"_parent\"><img src=\"https://colab.research.google.com/assets/colab-badge.svg\" alt=\"Open In Colab\"/></a>"
      ]
    },
    {
      "cell_type": "code",
      "execution_count": null,
      "metadata": {
        "colab": {
          "base_uri": "https://localhost:8080/"
        },
        "id": "lyFk_14reGt0",
        "outputId": "1931eb47-dc6d-4a6c-ed1b-fe9e6b3c1bdd"
      },
      "outputs": [
        {
          "output_type": "stream",
          "name": "stdout",
          "text": [
            "\u001b[2K     \u001b[90m━━━━━━━━━━━━━━━━━━━━━━━━━━━━━━━━━━━━━━━━\u001b[0m \u001b[32m44.3/44.3 kB\u001b[0m \u001b[31m1.4 MB/s\u001b[0m eta \u001b[36m0:00:00\u001b[0m\n",
            "\u001b[2K     \u001b[90m━━━━━━━━━━━━━━━━━━━━━━━━━━━━━━━━━━━━━━━━\u001b[0m \u001b[32m58.8/58.8 kB\u001b[0m \u001b[31m3.1 MB/s\u001b[0m eta \u001b[36m0:00:00\u001b[0m\n",
            "\u001b[?25h  Preparing metadata (setup.py) ... \u001b[?25l\u001b[?25hdone\n",
            "\u001b[2K     \u001b[90m━━━━━━━━━━━━━━━━━━━━━━━━━━━━━━━━━━━━━━━━\u001b[0m \u001b[32m1.1/1.1 MB\u001b[0m \u001b[31m18.8 MB/s\u001b[0m eta \u001b[36m0:00:00\u001b[0m\n",
            "\u001b[?25h  Preparing metadata (setup.py) ... \u001b[?25l\u001b[?25hdone\n",
            "\u001b[2K     \u001b[90m━━━━━━━━━━━━━━━━━━━━━━━━━━━━━━━━━━━━━━━\u001b[0m \u001b[32m139.6/139.6 kB\u001b[0m \u001b[31m8.5 MB/s\u001b[0m eta \u001b[36m0:00:00\u001b[0m\n",
            "\u001b[?25h  Preparing metadata (setup.py) ... \u001b[?25l\u001b[?25hdone\n",
            "\u001b[2K   \u001b[90m━━━━━━━━━━━━━━━━━━━━━━━━━━━━━━━━━━━━━━━━\u001b[0m \u001b[32m10.1/10.1 MB\u001b[0m \u001b[31m79.9 MB/s\u001b[0m eta \u001b[36m0:00:00\u001b[0m\n",
            "\u001b[2K   \u001b[90m━━━━━━━━━━━━━━━━━━━━━━━━━━━━━━━━━━━━━━━━\u001b[0m \u001b[32m1.1/1.1 MB\u001b[0m \u001b[31m42.9 MB/s\u001b[0m eta \u001b[36m0:00:00\u001b[0m\n",
            "\u001b[2K   \u001b[90m━━━━━━━━━━━━━━━━━━━━━━━━━━━━━━━━━━━━━━━━\u001b[0m \u001b[32m6.9/6.9 MB\u001b[0m \u001b[31m83.2 MB/s\u001b[0m eta \u001b[36m0:00:00\u001b[0m\n",
            "\u001b[2K   \u001b[90m━━━━━━━━━━━━━━━━━━━━━━━━━━━━━━━━━━━━━━━━\u001b[0m \u001b[32m64.8/64.8 kB\u001b[0m \u001b[31m3.3 MB/s\u001b[0m eta \u001b[36m0:00:00\u001b[0m\n",
            "\u001b[2K   \u001b[90m━━━━━━━━━━━━━━━━━━━━━━━━━━━━━━━━━━━━━━━━\u001b[0m \u001b[32m79.1/79.1 kB\u001b[0m \u001b[31m4.3 MB/s\u001b[0m eta \u001b[36m0:00:00\u001b[0m\n",
            "\u001b[?25h  Building wheel for ibm-cos-sdk (setup.py) ... \u001b[?25l\u001b[?25hdone\n",
            "  Building wheel for ibm-cos-sdk-core (setup.py) ... \u001b[?25l\u001b[?25hdone\n",
            "  Building wheel for ibm-cos-sdk-s3transfer (setup.py) ... \u001b[?25l\u001b[?25hdone\n",
            "\u001b[31mERROR: pip's dependency resolver does not currently take into account all the packages that are installed. This behaviour is the source of the following dependency conflicts.\n",
            "google-colab 1.0.0 requires requests==2.32.3, but you have requests 2.32.4 which is incompatible.\u001b[0m\u001b[31m\n",
            "\u001b[0m"
          ]
        }
      ],
      "source": [
        "!pip install streamlit ibm-watsonx-ai pyngrok --quiet\n"
      ]
    },
    {
      "cell_type": "code",
      "source": [
        "API_KEY = \"LXDzSNyva6SjICL4NMu8BJsxHiIw1VWgV_mA2IRgeVfx\"\n",
        "PROJECT_ID = \"cfcac08f-64c6-4c1b-977c-1c507211d49e\"\n",
        "MODEL_ID = \"ibm/granite-3-3-8b-instruct\"\n",
        "WATSONX_URL = \"https://us-south.ml.cloud.ibm.com\"\n"
      ],
      "metadata": {
        "id": "XLb10fJpehiK"
      },
      "execution_count": null,
      "outputs": []
    },
    {
      "cell_type": "code",
      "source": [
        "streamlit_code = \"\"\"\n",
        "import streamlit as st\n",
        "from ibm_watsonx_ai.foundation_models import ModelInference\n",
        "\n",
        "API_KEY = 'Enter your API KEY'\n",
        "PROJECT_ID = 'Enter your project Id'\n",
        "MODEL_ID = 'ibm/granite-3-3-8b-instruct'\n",
        "WATSONX_URL = 'https://us-south.ml.cloud.ibm.com'\n",
        "\n",
        "credentials = {'apikey': API_KEY, 'url': WATSONX_URL}\n",
        "\n",
        "model = ModelInference(\n",
        "    model_id=MODEL_ID,\n",
        "    credentials=credentials,\n",
        "    project_id=PROJECT_ID\n",
        ")\n",
        "\n",
        "st.title(\"🧠 Gen AI Code Generator\")\n",
        "st.write(\"Describe an app and get the code!\")\n",
        "\n",
        "desc = st.text_area(\"📝 App Description\")\n",
        "lang = st.selectbox(\"💻 Choose Language\", [\"Python\", \"JavaScript\", \"HTML\", \"Java\", \"C++\"])\n",
        "\n",
        "if st.button(\"🚀 Generate Code\"):\n",
        "    if desc:\n",
        "        prompt = f\"Generate {lang} code for the following app:\\\\n{desc}\"\n",
        "        with st.spinner(\"Calling IBM Watsonx...\"):\n",
        "            try:\n",
        "                params = {\"max_new_tokens\": 800, \"temperature\": 0.7, \"repetition_penalty\": 1.1}\n",
        "                response = model.generate(prompt=prompt, params=params)\n",
        "                code = response['results'][0]['generated_text']\n",
        "                st.success(\"✅ Code Generated\")\n",
        "                st.code(code, language=lang.lower())\n",
        "            except Exception as e:\n",
        "                st.error(f\"❌ Error: {e}\")\n",
        "    else:\n",
        "        st.warning(\"Please enter a description.\")\n",
        "\"\"\"\n",
        "\n",
        "with open(\"genai_app.py\", \"w\") as f:\n",
        "    f.write(streamlit_code)\n"
      ],
      "metadata": {
        "id": "n9UD-52XeosZ"
      },
      "execution_count": null,
      "outputs": []
    },
    {
      "cell_type": "code",
      "source": [
        "!ngrok authtoken \"2z8Ls8EWg8CXuEu6XfhNq5lmqXv_4c3oQ6eSo8SbQeTg4a7nc\"\n"
      ],
      "metadata": {
        "id": "FkMmbgHyet8s",
        "colab": {
          "base_uri": "https://localhost:8080/"
        },
        "outputId": "df414212-8c10-4fef-e874-9b952a756bd0"
      },
      "execution_count": null,
      "outputs": [
        {
          "output_type": "stream",
          "name": "stdout",
          "text": [
            "Authtoken saved to configuration file: /root/.config/ngrok/ngrok.yml\n"
          ]
        }
      ]
    },
    {
      "cell_type": "code",
      "source": [
        "import os\n",
        "from pyngrok import ngrok\n",
        "\n",
        "os.system(\"streamlit run genai_app.py &\")\n",
        "public_url = ngrok.connect(8501)\n",
        "print(\"🔗 Open your app:\", public_url)\n"
      ],
      "metadata": {
        "colab": {
          "base_uri": "https://localhost:8080/"
        },
        "id": "gSZVdTuRfDhp",
        "outputId": "75def2e7-d402-4182-ff98-a0d1dcb4dd2d"
      },
      "execution_count": null,
      "outputs": [
        {
          "output_type": "stream",
          "name": "stdout",
          "text": [
            "🔗 Open your app: NgrokTunnel: \"https://fc99-34-23-237-236.ngrok-free.app\" -> \"http://localhost:8501\"\n"
          ]
        }
      ]
    }
  ]
}